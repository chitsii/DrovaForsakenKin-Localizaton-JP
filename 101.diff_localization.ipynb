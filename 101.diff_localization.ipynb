{
 "cells": [
  {
   "cell_type": "code",
   "execution_count": 1,
   "metadata": {},
   "outputs": [
    {
     "name": "stdout",
     "output_type": "stream",
     "text": [
      "Skipping data/1.0.3/Localization/en/Journal\n",
      "Skipping data/1.0.3/Localization/en/Dialogues\n",
      "Skipping data/1.0.3/Localization/en/Letters\n",
      "Skipping data/1.0.3/Localization/en/Dialog\n",
      "Skipping data/1.0.3/Localization/en/Dialog/Footprint\n",
      "Skipping data/1.0.3/Localization/en/Dialog/Perceptible\n",
      "Skipping data/1.0.3/Localization/en/Dialog/Objects\n",
      "Skipping data/1.0.3/Localization/en/Dialog/Corpses\n",
      "Skipping data/1.0.3/Localization/en/Dialogue\n",
      "Skipping data/1.0.3/Localization/en/NPC_Names\n",
      "Skipping data/1.0.3/Localization/en/GUI\n",
      "Skipping data/1.0.3/Localization/en/HUD\n",
      "Skipping data/1.0.3.1/Localization/en/Journal\n",
      "Skipping data/1.0.3.1/Localization/en/Dialogues\n",
      "Skipping data/1.0.3.1/Localization/en/Letters\n",
      "Skipping data/1.0.3.1/Localization/en/Dialog\n",
      "Skipping data/1.0.3.1/Localization/en/Dialog/Footprint\n",
      "Skipping data/1.0.3.1/Localization/en/Dialog/Perceptible\n",
      "Skipping data/1.0.3.1/Localization/en/Dialog/Objects\n",
      "Skipping data/1.0.3.1/Localization/en/Dialog/Corpses\n",
      "Skipping data/1.0.3.1/Localization/en/Dialogue\n",
      "Skipping data/1.0.3.1/Localization/en/NPC_Names\n",
      "Skipping data/1.0.3.1/Localization/en/GUI\n",
      "Skipping data/1.0.3.1/Localization/en/HUD\n"
     ]
    }
   ],
   "source": [
    "from pathlib import Path\n",
    "from helpers import read_data_to_dict\n",
    "from helpers import list_entries_recusive\n",
    "\n",
    "previous_ver = \"1.0.3\"\n",
    "new_ver = \"1.0.3.1\"\n",
    "\n",
    "previous_ver_en = Path(\"data\") / previous_ver / \"Localization\" / \"en\"\n",
    "new_en_dir = Path(\"data\") / new_ver / \"Localization\" / \"en\"\n",
    "\n",
    "\n",
    "def read_localizatoin_dir_to_dict(localization_dir_path: Path) -> tuple[dict, list]:\n",
    "    \"\"\"Read localization directory to dictionary\n",
    "\n",
    "    Args:\n",
    "        localization_dir_path (Path): Path to localization directory\n",
    "\n",
    "    Returns:\n",
    "        tuple[dict, list]: Tuple of dictionary and list of exceptions\n",
    "\n",
    "        Dictionary like {\"path/to/file\": {\"game text key\": \"game text\"}, ...}\n",
    "    \"\"\"\n",
    "    entries = list_entries_recusive(localization_dir_path)\n",
    "    result = {}\n",
    "    exceptions = []\n",
    "\n",
    "    for entry in entries:\n",
    "        if entry.is_dir() or not entry.name.endswith(\".loc\"):\n",
    "            print(f\"Skipping {entry}\")\n",
    "            continue\n",
    "\n",
    "        key = entry.relative_to(localization_dir_path).as_posix()\n",
    "        value = entry.read_text()\n",
    "\n",
    "        try:\n",
    "            value_dict = read_data_to_dict(value)\n",
    "            result[key] = value_dict\n",
    "        except Exception:\n",
    "            exceptions.append(key)\n",
    "\n",
    "    return result, exceptions\n",
    "\n",
    "\n",
    "previous_en_dict, previous_en_exceptions = read_localizatoin_dir_to_dict(previous_ver_en)\n",
    "new_en_dict, new_en_exceptions = read_localizatoin_dir_to_dict(new_en_dir)\n"
   ]
  },
  {
   "cell_type": "code",
   "execution_count": 2,
   "metadata": {},
   "outputs": [
    {
     "data": {
      "text/plain": [
       "(['GUI/UserReport_en.loc'], ['GUI/UserReport_en.loc'])"
      ]
     },
     "execution_count": 2,
     "metadata": {},
     "output_type": "execute_result"
    }
   ],
   "source": [
    "previous_en_exceptions, new_en_exceptions"
   ]
  },
  {
   "cell_type": "code",
   "execution_count": 3,
   "metadata": {},
   "outputs": [
    {
     "name": "stdout",
     "output_type": "stream",
     "text": [
      "{'key_added': ['c'], 'key_removed': ['b', 'd'], 'value_updated': ['a']}\n",
      "True\n",
      "False\n"
     ]
    }
   ],
   "source": [
    "def diff_dict_key_values(old: dict, new: dict) -> dict:\n",
    "    difference = {\n",
    "        \"key_added\": [],\n",
    "        \"key_removed\": [],\n",
    "        \"value_updated\": [],\n",
    "    }\n",
    "    for key, value in new.items():\n",
    "        if key not in old:\n",
    "            difference[\"key_added\"].append(key)\n",
    "        else:\n",
    "            predict_value = old[key]\n",
    "            if value != predict_value:\n",
    "                difference[\"value_updated\"].append(key)\n",
    "\n",
    "    for key in old.keys():\n",
    "        if key not in new:\n",
    "            difference[\"key_removed\"].append(key)\n",
    "\n",
    "    return difference\n",
    "\n",
    "\n",
    "# test\n",
    "predict = {\n",
    "    \"a\": \"fooooo\",\n",
    "    \"b\": \"removed!\",\n",
    "    \"d\": \"removed!!\",\n",
    "}\n",
    "actual = {\n",
    "    \"a\": \"foo, change!\",\n",
    "    \"c\": \"new!\",\n",
    "}\n",
    "res = diff_dict_key_values(predict, actual)\n",
    "print(res)\n",
    "\n",
    "\n",
    "\n",
    "\n",
    "def has_diff(old: dict, new: dict) -> bool:\n",
    "    return diff_dict_key_values(old, new) != {\"key_added\": [], \"key_removed\": [], \"value_updated\": []}\n",
    "\n",
    "\n",
    "# test\n",
    "print(has_diff(predict, actual))\n",
    "print(has_diff(predict, predict))"
   ]
  },
  {
   "cell_type": "code",
   "execution_count": 18,
   "metadata": {},
   "outputs": [
    {
     "name": "stdout",
     "output_type": "stream",
     "text": [
      "Diff found in Journal/TraderLostItem_en.loc\n",
      "Diff found in Buffs_en.loc\n",
      "\n",
      "### New files\n",
      " []\n",
      "\n",
      "### Differences\n",
      " {'Journal/TraderLostItem_en.loc': {'key_added': ['Entry_03_Cancel'], 'key_removed': [], 'value_updated': []}, 'Buffs_en.loc': {'key_added': [], 'key_removed': [], 'value_updated': ['BleedingDescription']}}\n"
     ]
    }
   ],
   "source": [
    "# Search Differences\n",
    "new_files = []\n",
    "differences = {}\n",
    "\n",
    "\n",
    "for new_file_key, new_file_content in new_en_dict.items():\n",
    "    if new_file_key not in previous_en_dict.keys():\n",
    "        print(f\"New file found: {new_file_key}\")\n",
    "        new_files.append(new_file_key)\n",
    "    else:\n",
    "        previous_file_content = previous_en_dict[new_file_key]\n",
    "\n",
    "        diff = diff_dict_key_values(previous_file_content, new_file_content)\n",
    "        if diff == {\"key_added\": [], \"key_removed\": [], \"value_updated\": []}:\n",
    "            # print(f\"No diff found in {new_file}\")\n",
    "            continue\n",
    "        else:\n",
    "            print(f\"Diff found in {new_file_key}\")\n",
    "            differences[new_file_key] = diff\n",
    "\n",
    "\n",
    "print()\n",
    "print(\"### New files\\n\", new_files)\n",
    "print()\n",
    "print(\"### Differences\\n\", differences)\n"
   ]
  },
  {
   "cell_type": "code",
   "execution_count": 19,
   "metadata": {},
   "outputs": [
    {
     "name": "stdout",
     "output_type": "stream",
     "text": [
      "{'Journal/TraderLostItem_en.loc': {'key_added': ['Entry_03_Cancel'], 'key_removed': [], 'value_updated': []}, 'Buffs_en.loc': {'key_added': [], 'key_removed': [], 'value_updated': ['BleedingDescription']}}\n"
     ]
    }
   ],
   "source": [
    "print(differences)"
   ]
  }
 ],
 "metadata": {
  "kernelspec": {
   "display_name": ".venv",
   "language": "python",
   "name": "python3"
  },
  "language_info": {
   "codemirror_mode": {
    "name": "ipython",
    "version": 3
   },
   "file_extension": ".py",
   "mimetype": "text/x-python",
   "name": "python",
   "nbconvert_exporter": "python",
   "pygments_lexer": "ipython3",
   "version": "3.12.5"
  }
 },
 "nbformat": 4,
 "nbformat_minor": 2
}
