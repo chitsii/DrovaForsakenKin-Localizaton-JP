{
 "cells": [
  {
   "cell_type": "code",
   "execution_count": 1,
   "metadata": {},
   "outputs": [],
   "source": [
    "from pathlib import Path\n",
    "\n",
    "def list_entries_recusive(path: Path):\n",
    "    entries = []\n",
    "    for entry in path.iterdir():\n",
    "        entries.append(entry)\n",
    "        if entry.is_dir():\n",
    "            entries.extend(list_entries_recusive(entry))\n",
    "    return entries\n"
   ]
  },
  {
   "cell_type": "code",
   "execution_count": null,
   "metadata": {},
   "outputs": [],
   "source": [
    "# copy files to another direcotry\n",
    "data_dir = Path('data')\n",
    "version = '1.0.3'\n",
    "en_localization = data_dir / version / 'Localization' / 'en'\n",
    "\n",
    "copy_to_dir = data_dir / version / 'Localization' / 'ja'\n",
    "\n",
    "entries = list_entries_recusive(en_localization)\n",
    "entries"
   ]
  },
  {
   "cell_type": "code",
   "execution_count": 3,
   "metadata": {},
   "outputs": [
    {
     "data": {
      "text/plain": [
       "12"
      ]
     },
     "execution_count": 3,
     "metadata": {},
     "output_type": "execute_result"
    }
   ],
   "source": [
    "len(entries)"
   ]
  },
  {
   "cell_type": "code",
   "execution_count": null,
   "metadata": {},
   "outputs": [],
   "source": [
    "assert 1==2, 'comment out this line to rerun copy process'\n",
    "\n",
    "fname_exceptions = []\n",
    "\n",
    "for entry in entries:\n",
    "    if entry.is_dir():\n",
    "        continue\n",
    "    relative_path = entry.relative_to(en_localization)\n",
    "\n",
    "    # rename filename '*_en.*' to '*_ja.*'\n",
    "    if entry.stem.endswith('_en'):\n",
    "        target_path = copy_to_dir / relative_path.with_stem(entry.stem[:-3] + '_ja')\n",
    "    else:\n",
    "        target_path = copy_to_dir / relative_path\n",
    "        fname_exceptions.append(target_path)\n",
    "        print(f\"not '*_en.*' pattern: {entry} -> {target_path}\")\n",
    "\n",
    "    target_path.parent.mkdir(parents=True, exist_ok=True)\n",
    "    # entry.rename(target_path)\n",
    "    entry.copy(target_path)\n",
    "    print(f'copy: {entry} -> {target_path}')"
   ]
  },
  {
   "cell_type": "code",
   "execution_count": null,
   "metadata": {},
   "outputs": [],
   "source": [
    "fname_exceptions"
   ]
  },
  {
   "cell_type": "code",
   "execution_count": 4,
   "metadata": {},
   "outputs": [
    {
     "data": {
      "text/plain": [
       "486"
      ]
     },
     "execution_count": 4,
     "metadata": {},
     "output_type": "execute_result"
    }
   ],
   "source": [
    "ja_entries = list(list_entries_recusive(copy_to_dir))\n",
    "len(ja_entries)"
   ]
  },
  {
   "cell_type": "code",
   "execution_count": null,
   "metadata": {},
   "outputs": [],
   "source": [
    "[\n",
    "    e for e in ja_entries\n",
    "    if e.suffix != \".loc\"\n",
    "]"
   ]
  },
  {
   "cell_type": "code",
   "execution_count": 7,
   "metadata": {},
   "outputs": [],
   "source": [
    "from pptx_docx_translator import TranslationService\n",
    "\n",
    "translator = TranslationService()"
   ]
  },
  {
   "cell_type": "code",
   "execution_count": 8,
   "metadata": {},
   "outputs": [],
   "source": [
    "def read_data_to_dict(data: str) -> dict:\n",
    "    \"\"\"\n",
    "    Read data from a string format into a dictionary.\n",
    "\n",
    "    Args:\n",
    "        data (str): The input data in the specified format.\n",
    "\n",
    "    Returns:\n",
    "        dict: A dictionary representation of the input data.\n",
    "    \"\"\"\n",
    "    result = {}\n",
    "    lines = data.strip().splitlines()\n",
    "\n",
    "    for line in lines:\n",
    "        if line.strip():  # Check for non-empty lines\n",
    "            key, value = line.split(' ', 1)  # Split into key and value\n",
    "            key = key.strip()  # Clean up the key\n",
    "            value = value.strip().strip('{} ')  # Clean up the value\n",
    "            result[key] = value  # Add to dictionary\n",
    "\n",
    "    return result\n",
    "\n",
    "def write_dict_to_data(data_dict: dict) -> str:\n",
    "    \"\"\"\n",
    "    Write a dictionary back to the specified string format.\n",
    "\n",
    "    Args:\n",
    "        data_dict (dict): The dictionary to write.\n",
    "\n",
    "    Returns:\n",
    "        str: A string representation of the dictionary in the specified format.\n",
    "    \"\"\"\n",
    "    lines = []\n",
    "\n",
    "    for key, value in data_dict.items():\n",
    "        lines.append(f\"{key} {{ {value} }}\")  # Format each line\n",
    "\n",
    "    return \"\\n\\n\".join(lines)  # Join all lines into a single string"
   ]
  },
  {
   "cell_type": "code",
   "execution_count": null,
   "metadata": {},
   "outputs": [],
   "source": [
    "skip_until = 0\n",
    "for idx, file in enumerate(ja_entries):\n",
    "    if idx < skip_until:\n",
    "        print(f\"Skipping file {idx}/{len(ja_entries)}: {file}\")\n",
    "        continue\n",
    "\n",
    "    # skip directories and the UserReport file (it contains multi line strings as value which are not supported yet)\n",
    "    if file.is_dir() or str(file) == \"data/202410/ja/GUI/UserReport_ja.loc\":\n",
    "        continue\n",
    "\n",
    "    print(f\"Processing file {idx}/{len(ja_entries)}: {file}\")\n",
    "\n",
    "    # get the original data\n",
    "    original_kv = read_data_to_dict(file.read_text())\n",
    "\n",
    "    # sniff the writing style\n",
    "    writing_style = translator.sniff_writing_style(list(original_kv.values()))\n",
    "    print(writing_style)\n",
    "\n",
    "    # translate the data\n",
    "    translated_kv = translator.run_dict(original_kv, writing_style=writing_style)\n",
    "    text_data = write_dict_to_data(translated_kv)\n",
    "    print(text_data)\n",
    "    file.write_text(text_data)\n"
   ]
  }
 ],
 "metadata": {
  "kernelspec": {
   "display_name": ".venv",
   "language": "python",
   "name": "python3"
  },
  "language_info": {
   "codemirror_mode": {
    "name": "ipython",
    "version": 3
   },
   "file_extension": ".py",
   "mimetype": "text/x-python",
   "name": "python",
   "nbconvert_exporter": "python",
   "pygments_lexer": "ipython3",
   "version": "3.12.5"
  }
 },
 "nbformat": 4,
 "nbformat_minor": 2
}
